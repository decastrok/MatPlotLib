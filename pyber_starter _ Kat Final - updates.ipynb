{
 "cells": [
  {
   "cell_type": "code",
   "execution_count": 19,
   "metadata": {
    "scrolled": true
   },
   "outputs": [
    {
     "data": {
      "text/html": [
       "<div>\n",
       "<style scoped>\n",
       "    .dataframe tbody tr th:only-of-type {\n",
       "        vertical-align: middle;\n",
       "    }\n",
       "\n",
       "    .dataframe tbody tr th {\n",
       "        vertical-align: top;\n",
       "    }\n",
       "\n",
       "    .dataframe thead th {\n",
       "        text-align: right;\n",
       "    }\n",
       "</style>\n",
       "<table border=\"1\" class=\"dataframe\">\n",
       "  <thead>\n",
       "    <tr style=\"text-align: right;\">\n",
       "      <th></th>\n",
       "      <th>city</th>\n",
       "      <th>date</th>\n",
       "      <th>fare</th>\n",
       "      <th>ride_id</th>\n",
       "      <th>driver_count</th>\n",
       "      <th>type</th>\n",
       "    </tr>\n",
       "  </thead>\n",
       "  <tbody>\n",
       "    <tr>\n",
       "      <th>0</th>\n",
       "      <td>Lake Jonathanshire</td>\n",
       "      <td>2018-01-14 10:14:22</td>\n",
       "      <td>13.83</td>\n",
       "      <td>5739410935873</td>\n",
       "      <td>5</td>\n",
       "      <td>Urban</td>\n",
       "    </tr>\n",
       "    <tr>\n",
       "      <th>1</th>\n",
       "      <td>Lake Jonathanshire</td>\n",
       "      <td>2018-04-07 20:51:11</td>\n",
       "      <td>31.25</td>\n",
       "      <td>4441251834598</td>\n",
       "      <td>5</td>\n",
       "      <td>Urban</td>\n",
       "    </tr>\n",
       "    <tr>\n",
       "      <th>2</th>\n",
       "      <td>Lake Jonathanshire</td>\n",
       "      <td>2018-03-09 23:45:55</td>\n",
       "      <td>19.89</td>\n",
       "      <td>2389495660448</td>\n",
       "      <td>5</td>\n",
       "      <td>Urban</td>\n",
       "    </tr>\n",
       "    <tr>\n",
       "      <th>3</th>\n",
       "      <td>Lake Jonathanshire</td>\n",
       "      <td>2018-04-07 18:09:21</td>\n",
       "      <td>24.28</td>\n",
       "      <td>7796805191168</td>\n",
       "      <td>5</td>\n",
       "      <td>Urban</td>\n",
       "    </tr>\n",
       "    <tr>\n",
       "      <th>4</th>\n",
       "      <td>Lake Jonathanshire</td>\n",
       "      <td>2018-01-02 14:14:50</td>\n",
       "      <td>13.89</td>\n",
       "      <td>424254840012</td>\n",
       "      <td>5</td>\n",
       "      <td>Urban</td>\n",
       "    </tr>\n",
       "  </tbody>\n",
       "</table>\n",
       "</div>"
      ],
      "text/plain": [
       "                 city                 date   fare        ride_id  \\\n",
       "0  Lake Jonathanshire  2018-01-14 10:14:22  13.83  5739410935873   \n",
       "1  Lake Jonathanshire  2018-04-07 20:51:11  31.25  4441251834598   \n",
       "2  Lake Jonathanshire  2018-03-09 23:45:55  19.89  2389495660448   \n",
       "3  Lake Jonathanshire  2018-04-07 18:09:21  24.28  7796805191168   \n",
       "4  Lake Jonathanshire  2018-01-02 14:14:50  13.89   424254840012   \n",
       "\n",
       "   driver_count   type  \n",
       "0             5  Urban  \n",
       "1             5  Urban  \n",
       "2             5  Urban  \n",
       "3             5  Urban  \n",
       "4             5  Urban  "
      ]
     },
     "execution_count": 19,
     "metadata": {},
     "output_type": "execute_result"
    }
   ],
   "source": [
    "%matplotlib inline\n",
    "# Dependencies and Setup\n",
    "import matplotlib.pyplot as plt\n",
    "import pandas as pd\n",
    "import numpy as np\n",
    "\n",
    "# File to Load (Remember to change these)\n",
    "city_data_to_load = \"data/city_data.csv\"\n",
    "ride_data_to_load = \"data/ride_data.csv\"\n",
    "\n",
    "# Read the City and Ride Data\n",
    "City_Data_df = pd.read_csv(city_data_to_load)\n",
    "Ride_Data_df = pd.read_csv(ride_data_to_load)\n",
    "\n",
    "# Combine the data into a single dataset\n",
    "merge_table = pd.merge(Ride_Data_df,City_Data_df, on=\"city\")\n",
    "\n",
    "\n",
    "# Display the data table for preview\n",
    "merge_table.head()\n",
    "\n",
    "Mergeddf = merge_table\n",
    "Mergeddf.head()"
   ]
  },
  {
   "cell_type": "code",
   "execution_count": 20,
   "metadata": {},
   "outputs": [
    {
     "name": "stdout",
     "output_type": "stream",
     "text": [
      "<pandas.core.groupby.generic.DataFrameGroupBy object at 0x0000019357D6C5F8>\n",
      "<pandas.core.groupby.generic.DataFrameGroupBy object at 0x0000019357DE3518>\n",
      "<pandas.core.groupby.generic.DataFrameGroupBy object at 0x0000019357E692E8>\n"
     ]
    },
    {
     "data": {
      "text/html": [
       "<div>\n",
       "<style scoped>\n",
       "    .dataframe tbody tr th:only-of-type {\n",
       "        vertical-align: middle;\n",
       "    }\n",
       "\n",
       "    .dataframe tbody tr th {\n",
       "        vertical-align: top;\n",
       "    }\n",
       "\n",
       "    .dataframe thead th {\n",
       "        text-align: right;\n",
       "    }\n",
       "</style>\n",
       "<table border=\"1\" class=\"dataframe\">\n",
       "  <thead>\n",
       "    <tr style=\"text-align: right;\">\n",
       "      <th></th>\n",
       "      <th></th>\n",
       "      <th>Fare</th>\n",
       "      <th>ride total</th>\n",
       "      <th>avg fare</th>\n",
       "      <th>Driver Count</th>\n",
       "    </tr>\n",
       "    <tr>\n",
       "      <th>city</th>\n",
       "      <th>type</th>\n",
       "      <th></th>\n",
       "      <th></th>\n",
       "      <th></th>\n",
       "      <th></th>\n",
       "    </tr>\n",
       "  </thead>\n",
       "  <tbody>\n",
       "    <tr>\n",
       "      <th>Amandaburgh</th>\n",
       "      <th>Urban</th>\n",
       "      <td>443.55</td>\n",
       "      <td>18</td>\n",
       "      <td>24.641667</td>\n",
       "      <td>12</td>\n",
       "    </tr>\n",
       "    <tr>\n",
       "      <th>Barajasview</th>\n",
       "      <th>Urban</th>\n",
       "      <td>557.31</td>\n",
       "      <td>22</td>\n",
       "      <td>25.332273</td>\n",
       "      <td>26</td>\n",
       "    </tr>\n",
       "    <tr>\n",
       "      <th>Carriemouth</th>\n",
       "      <th>Urban</th>\n",
       "      <td>764.49</td>\n",
       "      <td>27</td>\n",
       "      <td>28.314444</td>\n",
       "      <td>52</td>\n",
       "    </tr>\n",
       "    <tr>\n",
       "      <th>Christopherfurt</th>\n",
       "      <th>Urban</th>\n",
       "      <td>661.55</td>\n",
       "      <td>27</td>\n",
       "      <td>24.501852</td>\n",
       "      <td>41</td>\n",
       "    </tr>\n",
       "    <tr>\n",
       "      <th>Deanville</th>\n",
       "      <th>Urban</th>\n",
       "      <td>491.01</td>\n",
       "      <td>19</td>\n",
       "      <td>25.842632</td>\n",
       "      <td>49</td>\n",
       "    </tr>\n",
       "  </tbody>\n",
       "</table>\n",
       "</div>"
      ],
      "text/plain": [
       "                         Fare  ride total   avg fare  Driver Count\n",
       "city            type                                              \n",
       "Amandaburgh     Urban  443.55          18  24.641667            12\n",
       "Barajasview     Urban  557.31          22  25.332273            26\n",
       "Carriemouth     Urban  764.49          27  28.314444            52\n",
       "Christopherfurt Urban  661.55          27  24.501852            41\n",
       "Deanville       Urban  491.01          19  25.842632            49"
      ]
     },
     "execution_count": 20,
     "metadata": {},
     "output_type": "execute_result"
    }
   ],
   "source": [
    "Mergeddf11 = Mergeddf\n",
    "Mergedgroup_Mergeddf11 = Mergeddf11.groupby(['city', 'type'])\n",
    "print (Mergedgroup_Mergeddf11)\n",
    "Mergedgroup_Mergeddf11.head()\n",
    "Mergedgroup_Mergeddf11[\"city\"].count()\n",
    "\n",
    "MergedgrpSummarybase = pd.DataFrame({\n",
    "                                    'Fare': Mergedgroup_Mergeddf11[\"fare\"].sum(),\n",
    "                                 'ride total' : Mergedgroup_Mergeddf11[\"ride_id\"].count(), \n",
    "                                 'driver count' : Mergedgroup_Mergeddf11[\"driver_count\"].count(),\n",
    "                                 'avg fare': Mergedgroup_Mergeddf11[\"fare\"].mean(), \n",
    "                                 ##   'color' : Mergedgroup_Mergeddf[\"type\"]\n",
    "                                  })\n",
    "\n",
    "\n",
    "MergedgrpSummarybase.head()\n",
    "\n",
    "DrivergroupU = City_Data_df.loc[City_Data_df['type'] == 'Urban']\n",
    "DrivergroupU_drivercount =DrivergroupU.groupby(['city', 'type'])\n",
    "print (DrivergroupU_drivercount)\n",
    "DrivergroupU_drivercount.head()\n",
    "DrivergroupU_drivercount[\"driver_count\"].sum()\n",
    "DrivergroupU = pd.DataFrame({\n",
    "                                   \n",
    "                                 'Driver Count' : DrivergroupU_drivercount[\"driver_count\"].sum()\n",
    "                                 \n",
    "                                                                  })\n",
    "DrivergroupU.head()\n",
    "## Bubble Plot of Ride Sharing Data\n",
    "Mergeddf1 = Mergeddf.loc[Mergeddf['type'] == 'Urban']\n",
    "Mergedgroup_Mergeddf1 = Mergeddf1.groupby(['city', 'type'])\n",
    "print (Mergedgroup_Mergeddf1)\n",
    "Mergedgroup_Mergeddf1.head()\n",
    "Mergedgroup_Mergeddf1[\"city\"].count()\n",
    "\n",
    "MergedgrpSummary = pd.DataFrame({\n",
    "                                    'Fare': Mergedgroup_Mergeddf1[\"fare\"].sum(),\n",
    "                                 'ride total' : Mergedgroup_Mergeddf1[\"ride_id\"].count(), \n",
    "                                 'avg fare': Mergedgroup_Mergeddf1[\"fare\"].mean(), \n",
    "                                                                  })\n",
    "\n",
    "\n",
    "MergedgrpSummary.head()\n",
    "\n",
    "FinalUrban= pd.merge(MergedgrpSummary, DrivergroupU, on=[\"city\",\"type\"])\n",
    "FinalUrban.head()\n"
   ]
  },
  {
   "cell_type": "code",
   "execution_count": 21,
   "metadata": {},
   "outputs": [
    {
     "name": "stdout",
     "output_type": "stream",
     "text": [
      "<pandas.core.groupby.generic.DataFrameGroupBy object at 0x0000019357E95860>\n",
      "<pandas.core.groupby.generic.DataFrameGroupBy object at 0x0000019357DD51D0>\n"
     ]
    },
    {
     "data": {
      "text/html": [
       "<div>\n",
       "<style scoped>\n",
       "    .dataframe tbody tr th:only-of-type {\n",
       "        vertical-align: middle;\n",
       "    }\n",
       "\n",
       "    .dataframe tbody tr th {\n",
       "        vertical-align: top;\n",
       "    }\n",
       "\n",
       "    .dataframe thead th {\n",
       "        text-align: right;\n",
       "    }\n",
       "</style>\n",
       "<table border=\"1\" class=\"dataframe\">\n",
       "  <thead>\n",
       "    <tr style=\"text-align: right;\">\n",
       "      <th></th>\n",
       "      <th></th>\n",
       "      <th>Fare</th>\n",
       "      <th>ride total</th>\n",
       "      <th>avg fare</th>\n",
       "      <th>Driver Count</th>\n",
       "    </tr>\n",
       "    <tr>\n",
       "      <th>city</th>\n",
       "      <th>type</th>\n",
       "      <th></th>\n",
       "      <th></th>\n",
       "      <th></th>\n",
       "      <th></th>\n",
       "    </tr>\n",
       "  </thead>\n",
       "  <tbody>\n",
       "    <tr>\n",
       "      <th>Barronchester</th>\n",
       "      <th>Suburban</th>\n",
       "      <td>582.76</td>\n",
       "      <td>16</td>\n",
       "      <td>36.422500</td>\n",
       "      <td>11</td>\n",
       "    </tr>\n",
       "    <tr>\n",
       "      <th>Bethanyland</th>\n",
       "      <th>Suburban</th>\n",
       "      <td>593.21</td>\n",
       "      <td>18</td>\n",
       "      <td>32.956111</td>\n",
       "      <td>22</td>\n",
       "    </tr>\n",
       "    <tr>\n",
       "      <th>Brandonfort</th>\n",
       "      <th>Suburban</th>\n",
       "      <td>673.31</td>\n",
       "      <td>19</td>\n",
       "      <td>35.437368</td>\n",
       "      <td>10</td>\n",
       "    </tr>\n",
       "    <tr>\n",
       "      <th>Colemanland</th>\n",
       "      <th>Suburban</th>\n",
       "      <td>679.68</td>\n",
       "      <td>22</td>\n",
       "      <td>30.894545</td>\n",
       "      <td>23</td>\n",
       "    </tr>\n",
       "    <tr>\n",
       "      <th>Davidfurt</th>\n",
       "      <th>Suburban</th>\n",
       "      <td>543.93</td>\n",
       "      <td>17</td>\n",
       "      <td>31.995882</td>\n",
       "      <td>23</td>\n",
       "    </tr>\n",
       "  </tbody>\n",
       "</table>\n",
       "</div>"
      ],
      "text/plain": [
       "                          Fare  ride total   avg fare  Driver Count\n",
       "city          type                                                 \n",
       "Barronchester Suburban  582.76          16  36.422500            11\n",
       "Bethanyland   Suburban  593.21          18  32.956111            22\n",
       "Brandonfort   Suburban  673.31          19  35.437368            10\n",
       "Colemanland   Suburban  679.68          22  30.894545            23\n",
       "Davidfurt     Suburban  543.93          17  31.995882            23"
      ]
     },
     "execution_count": 21,
     "metadata": {},
     "output_type": "execute_result"
    }
   ],
   "source": [
    "DrivergroupS = City_Data_df.loc[City_Data_df['type'] == 'Suburban']\n",
    "DrivergroupS_drivercount =DrivergroupS.groupby(['city', 'type'])\n",
    "print (DrivergroupS_drivercount)\n",
    "DrivergroupS_drivercount.head()\n",
    "DrivergroupS_drivercount[\"driver_count\"].sum()\n",
    "DrivergroupS = pd.DataFrame({\n",
    "                                   \n",
    "                                 'Driver Count' : DrivergroupS_drivercount[\"driver_count\"].sum()\n",
    "                                 \n",
    "                                                                  })\n",
    "DrivergroupS.head()\n",
    "\n",
    "MergeddfSuburban = Mergeddf.loc[Mergeddf['type'] == 'Suburban']\n",
    "Mergedgroup_MergeddfSuburban = MergeddfSuburban.groupby(['city', 'type'])\n",
    "print (Mergedgroup_MergeddfSuburban)\n",
    "Mergedgroup_MergeddfSuburban.head()\n",
    "Mergedgroup_MergeddfSuburban[\"city\"].count()\n",
    "\n",
    "MergedgrpSuburban = pd.DataFrame({\n",
    "                                    'Fare': Mergedgroup_MergeddfSuburban[\"fare\"].sum(),\n",
    "                                 'ride total' : Mergedgroup_MergeddfSuburban[\"ride_id\"].count(), \n",
    "                                 'avg fare': Mergedgroup_MergeddfSuburban[\"fare\"].mean(), \n",
    "                                 ##   'color' : Mergedgroup_Mergeddf[\"type\"]\n",
    "                                  })\n",
    "MergedgrpSuburban.head()\n",
    "\n",
    "FinalSuburban= pd.merge(MergedgrpSuburban, DrivergroupS, on=[\"city\",\"type\"])\n",
    "FinalSuburban.head()"
   ]
  },
  {
   "cell_type": "code",
   "execution_count": 22,
   "metadata": {},
   "outputs": [
    {
     "name": "stdout",
     "output_type": "stream",
     "text": [
      "<pandas.core.groupby.generic.DataFrameGroupBy object at 0x0000019357DE34A8>\n",
      "<pandas.core.groupby.generic.DataFrameGroupBy object at 0x0000019357DDC550>\n"
     ]
    },
    {
     "data": {
      "text/html": [
       "<div>\n",
       "<style scoped>\n",
       "    .dataframe tbody tr th:only-of-type {\n",
       "        vertical-align: middle;\n",
       "    }\n",
       "\n",
       "    .dataframe tbody tr th {\n",
       "        vertical-align: top;\n",
       "    }\n",
       "\n",
       "    .dataframe thead th {\n",
       "        text-align: right;\n",
       "    }\n",
       "</style>\n",
       "<table border=\"1\" class=\"dataframe\">\n",
       "  <thead>\n",
       "    <tr style=\"text-align: right;\">\n",
       "      <th></th>\n",
       "      <th></th>\n",
       "      <th>Fare</th>\n",
       "      <th>ride total</th>\n",
       "      <th>avg fare</th>\n",
       "      <th>Driver Count</th>\n",
       "    </tr>\n",
       "    <tr>\n",
       "      <th>city</th>\n",
       "      <th>type</th>\n",
       "      <th></th>\n",
       "      <th></th>\n",
       "      <th></th>\n",
       "      <th></th>\n",
       "    </tr>\n",
       "  </thead>\n",
       "  <tbody>\n",
       "    <tr>\n",
       "      <th>Bradshawfurt</th>\n",
       "      <th>Rural</th>\n",
       "      <td>400.64</td>\n",
       "      <td>10</td>\n",
       "      <td>40.064000</td>\n",
       "      <td>7</td>\n",
       "    </tr>\n",
       "    <tr>\n",
       "      <th>Garzaport</th>\n",
       "      <th>Rural</th>\n",
       "      <td>72.37</td>\n",
       "      <td>3</td>\n",
       "      <td>24.123333</td>\n",
       "      <td>7</td>\n",
       "    </tr>\n",
       "    <tr>\n",
       "      <th>Harringtonfort</th>\n",
       "      <th>Rural</th>\n",
       "      <td>200.82</td>\n",
       "      <td>6</td>\n",
       "      <td>33.470000</td>\n",
       "      <td>4</td>\n",
       "    </tr>\n",
       "    <tr>\n",
       "      <th>Jessicaport</th>\n",
       "      <th>Rural</th>\n",
       "      <td>216.08</td>\n",
       "      <td>6</td>\n",
       "      <td>36.013333</td>\n",
       "      <td>1</td>\n",
       "    </tr>\n",
       "    <tr>\n",
       "      <th>Lake Jamie</th>\n",
       "      <th>Rural</th>\n",
       "      <td>206.15</td>\n",
       "      <td>6</td>\n",
       "      <td>34.358333</td>\n",
       "      <td>4</td>\n",
       "    </tr>\n",
       "  </tbody>\n",
       "</table>\n",
       "</div>"
      ],
      "text/plain": [
       "                        Fare  ride total   avg fare  Driver Count\n",
       "city           type                                              \n",
       "Bradshawfurt   Rural  400.64          10  40.064000             7\n",
       "Garzaport      Rural   72.37           3  24.123333             7\n",
       "Harringtonfort Rural  200.82           6  33.470000             4\n",
       "Jessicaport    Rural  216.08           6  36.013333             1\n",
       "Lake Jamie     Rural  206.15           6  34.358333             4"
      ]
     },
     "execution_count": 22,
     "metadata": {},
     "output_type": "execute_result"
    }
   ],
   "source": [
    "Drivergroup = City_Data_df.loc[City_Data_df['type'] == 'Rural']\n",
    "Drivergroup_drivercount =Drivergroup.groupby(['city', 'type'])\n",
    "print (Drivergroup_drivercount)\n",
    "Drivergroup_drivercount.head()\n",
    "Drivergroup_drivercount[\"driver_count\"].sum()\n",
    "Drivergroup2 = pd.DataFrame({\n",
    "                                   \n",
    "                                 'Driver Count' : Drivergroup_drivercount[\"driver_count\"].sum()\n",
    "                                 \n",
    "                                                                  })\n",
    "Drivergroup2.head()\n",
    "\n",
    "Mergeddfrural = Mergeddf.loc[Mergeddf['type'] == 'Rural']\n",
    "Mergedgroup_Mergeddfrural = Mergeddfrural.groupby(['city', 'type'])\n",
    "print (Mergedgroup_Mergeddfrural)\n",
    "Mergedgroup_Mergeddfrural.head()\n",
    "Mergedgroup_Mergeddfrural[\"city\"].count()\n",
    "\n",
    "Mergedgrprural = pd.DataFrame({\n",
    "                                    'Fare': Mergedgroup_Mergeddfrural[\"fare\"].sum(),\n",
    "                                 'ride total' : Mergedgroup_Mergeddfrural[\"ride_id\"].count(), \n",
    "                                 'avg fare': Mergedgroup_Mergeddfrural[\"fare\"].mean(), \n",
    "                                                                  })\n",
    "Mergedgrprural.head()\n",
    "\n",
    "                                                       \n",
    "FinalRural= pd.merge(Mergedgrprural, Drivergroup2, on=[\"city\",\"type\"])\n",
    "FinalRural.head()"
   ]
  },
  {
   "cell_type": "code",
   "execution_count": 17,
   "metadata": {},
   "outputs": [
    {
     "name": "stderr",
     "output_type": "stream",
     "text": [
      "No handles with labels found to put in legend.\n"
     ]
    },
    {
     "data": {
      "image/png": "[encoded data removed]",
      "text/plain": [
       "<Figure size 432x288 with 1 Axes>"
      ]
     },
     "metadata": {
      "needs_background": "light"
     },
     "output_type": "display_data"
    }
   ],
   "source": [
    "# Obtain the x and y coordinates for each of the three city types\n",
    "urbanrides = FinalUrban[\"ride total\"].count()\n",
    "urbanfares = FinalUrban[\"Fare\"].mean()\n",
    "suburbanrides = FinalSuburban[\"ride total\"].count()\n",
    "suburbanfares = FinalSuburban[\"Fare\"].mean()\n",
    "ruralrides = FinalRural[\"ride total\"].count()\n",
    "ruralfares = FinalRural[\"Fare\"].mean()\n",
    "\n",
    "# Build the scatter plots for each city types\n",
    "drivercountU = FinalUrban[\"Driver Count\"]\n",
    "drivercountS = FinalSuburban[\"Driver Count\"]\n",
    "drivercountR = FinalRural[\"Driver Count\"]\n",
    "\n",
    "plt.scatter(urbanrides, urbanfares, marker=\"o\", facecolors=\"coral\", edgecolors=\"black\", s=drivercountU)\n",
    "plt.scatter(suburbanrides, suburbanfares, marker=\"o\", facecolors=\"skyblue\", edgecolors=\"black\", s=drivercountS)\n",
    "plt.scatter(ruralrides, ruralfares, marker=\"o\", facecolors=\"gold\", edgecolors=\"black\", s=drivercountR)\n",
    "\n",
    "\n",
    "# Incorporate the other graph properties\n",
    "plt.title(\"Pyber Ride Sharing Data (2016)\")\n",
    "plt.xlabel(\"Total Number of Rides per City\")\n",
    "plt.ylabel(\"Average Fare ($)\")\n",
    "\n",
    "# Create a legend\n",
    "plt.legend(fontsize=\"small\", mode=\"Expanded\",\n",
    "    numpoints=1, scatterpoints=1,\n",
    "    loc=\"best\", title=\"City Types\",\n",
    "    labelspacing=0.5)\n",
    "\n",
    "# Incorporate a text label regarding circle size\n",
    "plt.text(45, 35,'Note: Circle size correlates with driver count per city.',verticalalignment='center_baseline')\n",
    "\n",
    "# Save Figure\n",
    "plt.savefig(\"../Images/PyberRideSharingData.png\")\n"
   ]
  },
  {
   "cell_type": "code",
   "execution_count": 23,
   "metadata": {},
   "outputs": [],
   "source": [
    "# Show plot\n",
    "plt.show()"
   ]
  },
  {
   "cell_type": "markdown",
   "metadata": {},
   "source": [
    "## Total Fares by City Type"
   ]
  },
  {
   "cell_type": "code",
   "execution_count": 7,
   "metadata": {},
   "outputs": [
    {
     "name": "stdout",
     "output_type": "stream",
     "text": [
      "<pandas.core.groupby.generic.DataFrameGroupBy object at 0x0000019357DE36A0>\n"
     ]
    },
    {
     "data": {
      "image/png": "[encoded data removed]",
      "text/plain": [
       "<Figure size 432x288 with 1 Axes>"
      ]
     },
     "metadata": {},
     "output_type": "display_data"
    }
   ],
   "source": [
    "# Calculate Type Percents\n",
    "Citygroup_Mergeddf = Mergeddf.groupby(['type'])\n",
    "print (Citygroup_Mergeddf)\n",
    "Citygroup_Mergeddf.head()\n",
    "Citygroup_Mergeddf[\"type\"].count()\n",
    "\n",
    "CitySummary = pd.DataFrame({'Fares':Citygroup_Mergeddf[\"fare\"].sum(),\n",
    "                                'Riders': Citygroup_Mergeddf[\"ride_id\"].count(),\n",
    "                                 'Drivers' : Citygroup_Mergeddf[\"driver_count\"].sum(),\n",
    "                               'type %' : Citygroup_Mergeddf[\"type\"].count()/Mergeddf[\"type\"].count()\n",
    "                           })\n",
    "CitySummary.head()\n",
    "# Build Pie Chart\n",
    "labels = [\"Rural\", \"Suburban\", \"Urban\"]\n",
    "sizes = [4327.93, 19356.33, 39854.38]\n",
    "colors = [\"gold\", \"coral\", \"skyblue\"]\n",
    "explode = (0, 0, 0.01)\n",
    "plt.pie(sizes, explode=explode, labels=labels, colors=colors,\n",
    "        autopct=\"%1.1f%%\", shadow=True, startangle=140)\n",
    "plt.title(\"Total Fares by City Type\")\n",
    "# Save Figure\n",
    "plt.savefig(\"../Images/totalfaresbycity.png\")\n",
    "plt.show()"
   ]
  },
  {
   "cell_type": "code",
   "execution_count": 8,
   "metadata": {},
   "outputs": [],
   "source": [
    "# Show Figure\n",
    "plt.show()"
   ]
  },
  {
   "cell_type": "markdown",
   "metadata": {},
   "source": [
    "## Total Rides by City Type"
   ]
  },
  {
   "cell_type": "code",
   "execution_count": 9,
   "metadata": {},
   "outputs": [
    {
     "name": "stdout",
     "output_type": "stream",
     "text": [
      "<pandas.core.groupby.generic.DataFrameGroupBy object at 0x0000019357E8CC50>\n"
     ]
    },
    {
     "data": {
      "image/png": "[encoded data removed]",
      "text/plain": [
       "<Figure size 432x288 with 1 Axes>"
      ]
     },
     "metadata": {},
     "output_type": "display_data"
    }
   ],
   "source": [
    "# Calculate Type Percents\n",
    "Citygroup_Mergeddf = Mergeddf.groupby(['type'])\n",
    "print (Citygroup_Mergeddf)\n",
    "Citygroup_Mergeddf.head()\n",
    "Citygroup_Mergeddf[\"type\"].count()\n",
    "\n",
    "CitySummary = pd.DataFrame({'Fares':Citygroup_Mergeddf[\"fare\"].sum(),\n",
    "                                'Riders': Citygroup_Mergeddf[\"ride_id\"].count(),\n",
    "                                 'Drivers' : Citygroup_Mergeddf[\"driver_count\"].sum(),\n",
    "                               'type %' : Citygroup_Mergeddf[\"type\"].count()/Mergeddf[\"type\"].count()\n",
    "                           })\n",
    "CitySummary.head()\n",
    "# Build Pie Chart\n",
    "labels = [\"Rural\", \"Suburban\", \"Urban\"]\n",
    "sizes = [125, 625, 1625]\n",
    "colors = [\"gold\", \"coral\", \"skyblue\"]\n",
    "explode = (0, .15, 0.25)\n",
    "plt.pie(sizes, explode=explode, labels=labels, colors=colors,\n",
    "        autopct=\"%1.1f%%\", shadow=True, startangle=140)\n",
    "plt.title(\"% of Total Rides by City Type\")\n",
    "# Save Figure\n",
    "plt.savefig(\"../Images/totalridesbycity.png\")\n",
    "plt.show()"
   ]
  },
  {
   "cell_type": "code",
   "execution_count": 10,
   "metadata": {},
   "outputs": [],
   "source": [
    "# Show Figure\n",
    "plt.show()"
   ]
  },
  {
   "cell_type": "markdown",
   "metadata": {},
   "source": [
    "## Total Drivers by City Type"
   ]
  },
  {
   "cell_type": "code",
   "execution_count": 11,
   "metadata": {},
   "outputs": [
    {
     "name": "stdout",
     "output_type": "stream",
     "text": [
      "<pandas.core.groupby.generic.DataFrameGroupBy object at 0x0000019357EDBB70>\n"
     ]
    },
    {
     "data": {
      "image/png": "[encoded data removed]",
      "text/plain": [
       "<Figure size 432x288 with 1 Axes>"
      ]
     },
     "metadata": {},
     "output_type": "display_data"
    }
   ],
   "source": [
    "# Calculate Type Percents\n",
    "Citygroup_Mergeddf = Mergeddf.groupby(['type'])\n",
    "print (Citygroup_Mergeddf)\n",
    "Citygroup_Mergeddf.head()\n",
    "Citygroup_Mergeddf[\"type\"].count()\n",
    "\n",
    "CitySummary = pd.DataFrame({'Fares':Citygroup_Mergeddf[\"fare\"].sum(),\n",
    "                                'Riders': Citygroup_Mergeddf[\"ride_id\"].count(),\n",
    "                                 'Drivers' : Citygroup_Mergeddf[\"driver_count\"].sum(),\n",
    "                               'type %' : Citygroup_Mergeddf[\"type\"].count()/Mergeddf[\"type\"].count()\n",
    "                           })\n",
    "CitySummary.head()\n",
    "# Build Pie Chart\n",
    "labels = [\"Rural\", \"Suburban\", \"Urban\"]\n",
    "sizes = [537, 8570, 59602]\n",
    "colors = [\"gold\", \"coral\", \"skyblue\"]\n",
    "explode = (0, 0, 0.1)\n",
    "plt.pie(sizes, explode=explode, labels=labels, colors=colors,\n",
    "        autopct=\"%1.1f%%\", shadow=True, startangle=140)\n",
    "plt.title(\"% of Total Drivers by City Type\")\n",
    "# Save Figure\n",
    "plt.savefig(\"../Images/totaldriversbycity.png\")\n",
    "plt.show()"
   ]
  },
  {
   "cell_type": "code",
   "execution_count": 12,
   "metadata": {
    "scrolled": true
   },
   "outputs": [],
   "source": [
    "# Show Figure\n",
    "plt.show()"
   ]
  },
  {
   "cell_type": "code",
   "execution_count": null,
   "metadata": {},
   "outputs": [],
   "source": []
  },
  {
   "cell_type": "code",
   "execution_count": null,
   "metadata": {},
   "outputs": [],
   "source": []
  }
 ],
 "metadata": {
  "anaconda-cloud": {},
  "kernelspec": {
   "display_name": "Python 3",
   "language": "python",
   "name": "python3"
  },
  "language_info": {
   "codemirror_mode": {
    "name": "ipython",
    "version": 3
   },
   "file_extension": ".py",
   "mimetype": "text/x-python",
   "name": "python",
   "nbconvert_exporter": "python",
   "pygments_lexer": "ipython3",
   "version": "3.7.3"
  }
 },
 "nbformat": 4,
 "nbformat_minor": 2
}
